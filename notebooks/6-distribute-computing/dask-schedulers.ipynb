{
 "cells": [
  {
   "cell_type": "markdown",
   "metadata": {},
   "source": [
    "# Dask Schedulers"
   ]
  },
  {
   "cell_type": "code",
   "execution_count": 1,
   "metadata": {},
   "outputs": [],
   "source": [
    "from dask import delayed, compute\n",
    "import dask"
   ]
  },
  {
   "cell_type": "code",
   "execution_count": 2,
   "metadata": {},
   "outputs": [],
   "source": [
    "x = list(range(2, 20000, 2))\n",
    "y = list(range(3, 30000, 3))\n",
    "z = list(range(5, 50000, 5))\n",
    "\n",
    "final_result = []"
   ]
  },
  {
   "cell_type": "code",
   "execution_count": 3,
   "metadata": {},
   "outputs": [],
   "source": [
    "def do_something_1(x, y):\n",
    "    return x + y + 2*x*y\n",
    "\n",
    "def do_something_2(a, b):\n",
    "    return a**3 - b**3\n",
    "\n",
    "def do_something_3(p, q):\n",
    "    return p*p + q*q"
   ]
  },
  {
   "cell_type": "code",
   "execution_count": 4,
   "metadata": {},
   "outputs": [],
   "source": [
    "final_result = []\n",
    "for i in range(0, len(x)):\n",
    "    # Wrap the function calls inside delayed\n",
    "    res_1 = delayed(do_something_1)(x[i], y[i])\n",
    "    res_2 = delayed(do_something_2)(y[i], z[i])\n",
    "    res_3 = delayed(do_something_3)(res_1, res_2)\n",
    "    final_result.append(res_3)\n",
    "\n",
    "final_sum = delayed(sum)(final_result)"
   ]
  },
  {
   "cell_type": "code",
   "execution_count": 5,
   "metadata": {},
   "outputs": [
    {
     "name": "stdout",
     "output_type": "stream",
     "text": [
      "CPU times: user 6.15 s, sys: 1.49 s, total: 7.64 s\n",
      "Wall time: 6.92 s\n"
     ]
    }
   ],
   "source": [
    "# Using processes scheduler\n",
    "with dask.config.set(scheduler='processes'):\n",
    "    %time _ = final_sum.compute()"
   ]
  },
  {
   "cell_type": "code",
   "execution_count": 6,
   "metadata": {},
   "outputs": [
    {
     "name": "stdout",
     "output_type": "stream",
     "text": [
      "CPU times: user 1.25 s, sys: 37.2 ms, total: 1.28 s\n",
      "Wall time: 1.3 s\n"
     ]
    }
   ],
   "source": [
    "# Using Sync scheduler\n",
    "with dask.config.set(scheduler='sync'):\n",
    "    %time _ = final_sum.compute()"
   ]
  },
  {
   "cell_type": "code",
   "execution_count": 7,
   "metadata": {},
   "outputs": [
    {
     "name": "stdout",
     "output_type": "stream",
     "text": [
      "CPU times: user 2.23 s, sys: 424 ms, total: 2.65 s\n",
      "Wall time: 2.45 s\n"
     ]
    }
   ],
   "source": [
    "# Using Threading scheduler\n",
    "with dask.config.set(scheduler='threading'):\n",
    "    %time _ = final_sum.compute()"
   ]
  },
  {
   "cell_type": "code",
   "execution_count": 8,
   "metadata": {},
   "outputs": [],
   "source": [
    "#dask.config.set(scheduler='threading'):"
   ]
  },
  {
   "cell_type": "code",
   "execution_count": 9,
   "metadata": {},
   "outputs": [],
   "source": [
    "x = [2, 4, 6, 8]\n",
    "y = [3, 6, 9, 12]\n",
    "z = [5, 10, 15, 20]\n",
    "\n",
    "final_result = []"
   ]
  },
  {
   "cell_type": "code",
   "execution_count": 10,
   "metadata": {},
   "outputs": [],
   "source": [
    "import time\n",
    "\n",
    "def do_something_1(x, y):\n",
    "    time.sleep(4)\n",
    "    return x + y + 2*x*y\n",
    "\n",
    "def do_something_2(a, b):\n",
    "    time.sleep(4)\n",
    "    return a**3 - b**3\n",
    "\n",
    "def do_something_3(p, q):\n",
    "    time.sleep(4)\n",
    "    return p*p + q*q"
   ]
  },
  {
   "cell_type": "code",
   "execution_count": 11,
   "metadata": {},
   "outputs": [],
   "source": [
    "final_result = []\n",
    "for i in range(0, len(x)):\n",
    "    # Wrap the function calls inside delayed\n",
    "    res_1 = delayed(do_something_1)(x[i], y[i])\n",
    "    res_2 = delayed(do_something_2)(y[i], z[i])\n",
    "    res_3 = delayed(do_something_3)(res_1, res_2)\n",
    "    final_result.append(res_3)\n",
    "\n",
    "final_sum = delayed(sum)(final_result)"
   ]
  },
  {
   "cell_type": "code",
   "execution_count": 12,
   "metadata": {},
   "outputs": [
    {
     "name": "stdout",
     "output_type": "stream",
     "text": [
      "CPU times: user 31.6 ms, sys: 43.2 ms, total: 74.8 ms\n",
      "Wall time: 8.42 s\n"
     ]
    }
   ],
   "source": [
    "# Using processes scheduler\n",
    "with dask.config.set(scheduler='processes'):\n",
    "    %time _ = final_sum.compute()"
   ]
  },
  {
   "cell_type": "code",
   "execution_count": 13,
   "metadata": {},
   "outputs": [
    {
     "name": "stdout",
     "output_type": "stream",
     "text": [
      "CPU times: user 4.64 ms, sys: 2.38 ms, total: 7.02 ms\n",
      "Wall time: 48.1 s\n"
     ]
    }
   ],
   "source": [
    "# Using Sync scheduler\n",
    "with dask.config.set(scheduler='sync'):\n",
    "    %time _ = final_sum.compute()"
   ]
  },
  {
   "cell_type": "code",
   "execution_count": 14,
   "metadata": {},
   "outputs": [
    {
     "name": "stdout",
     "output_type": "stream",
     "text": [
      "CPU times: user 3.75 ms, sys: 2.71 ms, total: 6.46 ms\n",
      "Wall time: 8.01 s\n"
     ]
    }
   ],
   "source": [
    "# Using Threading scheduler\n",
    "with dask.config.set(scheduler='threading'):\n",
    "    %time _ = final_sum.compute()"
   ]
  },
  {
   "cell_type": "markdown",
   "metadata": {},
   "source": [
    "processes: There is an overhead with starting and creating processes and communication in between  \n",
    "threading: comparatively faster than multi-processes"
   ]
  },
  {
   "cell_type": "code",
   "execution_count": null,
   "metadata": {},
   "outputs": [],
   "source": []
  }
 ],
 "metadata": {
  "kernelspec": {
   "display_name": "Python 3",
   "language": "python",
   "name": "python3"
  },
  "language_info": {
   "codemirror_mode": {
    "name": "ipython",
    "version": 3
   },
   "file_extension": ".py",
   "mimetype": "text/x-python",
   "name": "python",
   "nbconvert_exporter": "python",
   "pygments_lexer": "ipython3",
   "version": "3.8.3"
  }
 },
 "nbformat": 4,
 "nbformat_minor": 2
}
